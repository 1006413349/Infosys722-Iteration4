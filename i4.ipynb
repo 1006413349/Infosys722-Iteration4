{
 "cells": [
  {
   "cell_type": "code",
   "execution_count": 1,
   "id": "56293028",
   "metadata": {},
   "outputs": [
    {
     "name": "stderr",
     "output_type": "stream",
     "text": [
      "WARNING: An illegal reflective access operation has occurred\n",
      "WARNING: Illegal reflective access by org.apache.spark.unsafe.Platform (file:/home/ubuntu/spark-3.2.1-bin-hadoop2.7/jars/spark-unsafe_2.12-3.2.1.jar) to constructor java.nio.DirectByteBuffer(long,int)\n",
      "WARNING: Please consider reporting this to the maintainers of org.apache.spark.unsafe.Platform\n",
      "WARNING: Use --illegal-access=warn to enable warnings of further illegal reflective access operations\n",
      "WARNING: All illegal access operations will be denied in a future release\n",
      "Using Spark's default log4j profile: org/apache/spark/log4j-defaults.properties\n",
      "Setting default log level to \"WARN\".\n",
      "To adjust logging level use sc.setLogLevel(newLevel). For SparkR, use setLogLevel(newLevel).\n",
      "23/10/11 09:30:18 WARN NativeCodeLoader: Unable to load native-hadoop library for your platform... using builtin-java classes where applicable\n"
     ]
    }
   ],
   "source": [
    "import findspark\n",
    "findspark.init('/home/ubuntu/spark-3.2.1-bin-hadoop2.7')\n",
    "import pyspark\n",
    "from pyspark.sql import SparkSession\n",
    "spark = SparkSession.builder.appName('basics').getOrCreate()\n",
    "from pyspark.sql.functions import udf\n",
    "from pyspark.sql.types import StringType\n",
    "from pyspark.sql.functions import year\n",
    "from pyspark.ml.feature import StringIndexer\n",
    "import matplotlib.pyplot as plt\n",
    "from pyspark.ml.feature import VectorAssembler\n",
    "from pyspark.ml.regression import LinearRegression\n",
    "from pyspark.ml.evaluation import RegressionEvaluator\n",
    "\n",
    "import pandas as pd\n",
    "import seaborn as sns\n"
   ]
  },
  {
   "cell_type": "code",
   "execution_count": 2,
   "id": "b21d47c9",
   "metadata": {},
   "outputs": [],
   "source": [
    "\n",
    "# Spark Load Dataset\n",
    "df = spark.read.csv('Datasets/worldriskindex.csv', inferSchema=True, header=True)\n",
    "\n",
    "df2 = spark.read.csv('Datasets/prevalence.csv', inferSchema=True, header=True)\n",
    "\n",
    "df3 = spark.read.csv('Datasets/poverty-share-on-less-than-30-per-day.csv', inferSchema=True, header=True)\n",
    "\n",
    "df4 = spark.read.csv('Datasets/yielddf.csv', inferSchema=True, header=True)"
   ]
  },
  {
   "cell_type": "code",
   "execution_count": null,
   "id": "4c1f3edc",
   "metadata": {},
   "outputs": [],
   "source": [
    "# pandas \n",
    "file1 = 'Datasets/worldriskindex.csv'\n",
    "\n",
    "file2 = 'Datasets/prevalence.csv'\n",
    "\n",
    "file3 = 'Datasets/poverty-share-on-less-than-30-per-day.csv'\n",
    "\n",
    "file4 = 'Datasets/yielddf.csv'\n",
    "\n",
    "df = pd.read_csv(file1)\n",
    "\n",
    "df2 = pd.read_csv(file2)\n",
    "\n",
    "df3 = pd.read_csv(file3)\n",
    "\n",
    "df4 = pd.read_csv(file4)"
   ]
  },
  {
   "cell_type": "code",
   "execution_count": null,
   "id": "9bff54e1",
   "metadata": {},
   "outputs": [],
   "source": [
    "df.show()"
   ]
  },
  {
   "cell_type": "code",
   "execution_count": null,
   "id": "ee4e1d15",
   "metadata": {},
   "outputs": [],
   "source": [
    "df2.show()"
   ]
  },
  {
   "cell_type": "code",
   "execution_count": null,
   "id": "8be0fa9a",
   "metadata": {},
   "outputs": [],
   "source": [
    "df3.show()"
   ]
  },
  {
   "cell_type": "code",
   "execution_count": null,
   "id": "6c00738d",
   "metadata": {},
   "outputs": [],
   "source": [
    "df4.show()"
   ]
  },
  {
   "cell_type": "code",
   "execution_count": null,
   "id": "81290e0e",
   "metadata": {},
   "outputs": [],
   "source": [
    "# Explore Data\n",
    "\n",
    "df.describe().show()"
   ]
  },
  {
   "cell_type": "code",
   "execution_count": null,
   "id": "8e291d7b",
   "metadata": {},
   "outputs": [],
   "source": [
    "df2.describe().show()"
   ]
  },
  {
   "cell_type": "code",
   "execution_count": null,
   "id": "b0396f7c",
   "metadata": {},
   "outputs": [],
   "source": [
    "df3.describe().show()"
   ]
  },
  {
   "cell_type": "code",
   "execution_count": null,
   "id": "e95486da",
   "metadata": {},
   "outputs": [],
   "source": [
    "df4.describe().show()"
   ]
  },
  {
   "cell_type": "code",
   "execution_count": null,
   "id": "9bc1e0bf",
   "metadata": {},
   "outputs": [],
   "source": [
    "sns.displot(df['WRI'])\n"
   ]
  },
  {
   "cell_type": "code",
   "execution_count": null,
   "id": "64dcc53d",
   "metadata": {},
   "outputs": [],
   "source": [
    "sns.displot(df2['Prevalence of undernourishment (% of population)'])\n"
   ]
  },
  {
   "cell_type": "code",
   "execution_count": null,
   "id": "8b5e8d2b",
   "metadata": {},
   "outputs": [],
   "source": [
    "sns.displot(df3['$30.00 per day - share of population below poverty line'])\n"
   ]
  },
  {
   "cell_type": "code",
   "execution_count": null,
   "id": "df9cf21c",
   "metadata": {},
   "outputs": [],
   "source": [
    "sns.displot(df4['hg/ha_yield'])"
   ]
  },
  {
   "cell_type": "code",
   "execution_count": 3,
   "id": "03bdb013",
   "metadata": {},
   "outputs": [],
   "source": [
    "df_filtered = df[df['Year'] == 2013]\n",
    "df_filtered2 = df2[df2['Year'] == 2013]\n",
    "df_filtered3 = df3[df3['Year'] == 2013]\n",
    "df_filtered4 = df4[df4['Year'] == 2013]"
   ]
  },
  {
   "cell_type": "code",
   "execution_count": null,
   "id": "6267c607",
   "metadata": {},
   "outputs": [],
   "source": [
    "df_filtered.show()"
   ]
  },
  {
   "cell_type": "code",
   "execution_count": null,
   "id": "217b9a92",
   "metadata": {},
   "outputs": [],
   "source": [
    "df_filtered2.show()"
   ]
  },
  {
   "cell_type": "code",
   "execution_count": null,
   "id": "c0908591",
   "metadata": {},
   "outputs": [],
   "source": [
    "df_filtered3.show()"
   ]
  },
  {
   "cell_type": "code",
   "execution_count": null,
   "id": "32b5d050",
   "metadata": {},
   "outputs": [],
   "source": [
    "df_filtered4.show()"
   ]
  },
  {
   "cell_type": "code",
   "execution_count": null,
   "id": "1e58bd18",
   "metadata": {},
   "outputs": [],
   "source": [
    "def classify_poverty_level(value):\n",
    "    if value > 90:\n",
    "        return 'extreme poor'\n",
    "    elif 70 <= value <= 90:\n",
    "        return 'very poor'\n",
    "    elif 50 <= value < 70:\n",
    "        return 'poor'\n",
    "    else:\n",
    "        return 'not poor'"
   ]
  },
  {
   "cell_type": "code",
   "execution_count": null,
   "id": "23f4f138",
   "metadata": {},
   "outputs": [],
   "source": [
    "df3['Poverty Level'] = df3['$30.00 per day - share of population below poverty line'].apply(classify_poverty_level)"
   ]
  },
  {
   "cell_type": "code",
   "execution_count": null,
   "id": "57ca67a7",
   "metadata": {},
   "outputs": [],
   "source": [
    "df3"
   ]
  },
  {
   "cell_type": "code",
   "execution_count": 4,
   "id": "b4357bcc",
   "metadata": {},
   "outputs": [
    {
     "name": "stdout",
     "output_type": "stream",
     "text": [
      "+-----------+----+----+------------------------------------------------+\n",
      "|     Region|Code|Year|Prevalence of undernourishment (% of population)|\n",
      "+-----------+----+----+------------------------------------------------+\n",
      "|Afghanistan| AFG|2001|                               47.79999923706055|\n",
      "|Afghanistan| AFG|2002|                              45.599998474121094|\n",
      "|Afghanistan| AFG|2003|                              40.599998474121094|\n",
      "|Afghanistan| AFG|2004|                                            38.0|\n",
      "|Afghanistan| AFG|2005|                              36.099998474121094|\n",
      "|Afghanistan| AFG|2006|                               33.29999923706055|\n",
      "|Afghanistan| AFG|2007|                              29.799999237060547|\n",
      "|Afghanistan| AFG|2008|                                            26.5|\n",
      "|Afghanistan| AFG|2009|                              24.399999618530273|\n",
      "|Afghanistan| AFG|2010|                              23.700000762939453|\n",
      "|Afghanistan| AFG|2011|                              24.700000762939453|\n",
      "|Afghanistan| AFG|2012|                              28.200000762939453|\n",
      "|Afghanistan| AFG|2013|                              26.299999237060547|\n",
      "|Afghanistan| AFG|2014|                              24.200000762939453|\n",
      "|Afghanistan| AFG|2015|                                            21.5|\n",
      "|Afghanistan| AFG|2016|                              22.200000762939453|\n",
      "|Afghanistan| AFG|2017|                                            23.0|\n",
      "|Afghanistan| AFG|2018|                              23.399999618530273|\n",
      "|Afghanistan| AFG|2019|                              25.600000381469727|\n",
      "|    Albania| ALB|2001|                               4.900000095367432|\n",
      "+-----------+----+----+------------------------------------------------+\n",
      "only showing top 20 rows\n",
      "\n",
      "+-------+----+----+-------------------------------------------------------+\n",
      "| Region|Code|Year|$30.00 per day - share of population below poverty line|\n",
      "+-------+----+----+-------------------------------------------------------+\n",
      "|Albania| ALB|1981|                                               99.91247|\n",
      "|Albania| ALB|1982|                                               99.91247|\n",
      "|Albania| ALB|1983|                                               99.91247|\n",
      "|Albania| ALB|1984|                                               99.91247|\n",
      "|Albania| ALB|1985|                                               99.91247|\n",
      "|Albania| ALB|1986|                                               99.91247|\n",
      "|Albania| ALB|1987|                                               99.91247|\n",
      "|Albania| ALB|1988|                                               99.91247|\n",
      "|Albania| ALB|1989|                                               99.91247|\n",
      "|Albania| ALB|1990|                                               99.91247|\n",
      "|Albania| ALB|1991|                                               99.95166|\n",
      "|Albania| ALB|1992|                                               99.96992|\n",
      "|Albania| ALB|1993|                                               99.95166|\n",
      "|Albania| ALB|1994|                                               99.95166|\n",
      "|Albania| ALB|1995|                                               99.91247|\n",
      "|Albania| ALB|1996|                                               99.91247|\n",
      "|Albania| ALB|1997|                                      99.92638000000001|\n",
      "|Albania| ALB|1998|                                               99.91546|\n",
      "|Albania| ALB|1999|                                               99.87584|\n",
      "|Albania| ALB|2000|                                               99.82523|\n",
      "+-------+----+----+-------------------------------------------------------+\n",
      "only showing top 20 rows\n",
      "\n",
      "+---+-------+-----------+----+-----------+-----------------------------+-----------------+--------+\n",
      "|_c0| Region|       Item|Year|hg/ha_yield|average_rain_fall_mm_per_year|pesticides_tonnes|avg_temp|\n",
      "+---+-------+-----------+----+-----------+-----------------------------+-----------------+--------+\n",
      "|  0|Albania|      Maize|1990|      36613|                       1485.0|            121.0|   16.37|\n",
      "|  1|Albania|   Potatoes|1990|      66667|                       1485.0|            121.0|   16.37|\n",
      "|  2|Albania|Rice, paddy|1990|      23333|                       1485.0|            121.0|   16.37|\n",
      "|  3|Albania|    Sorghum|1990|      12500|                       1485.0|            121.0|   16.37|\n",
      "|  4|Albania|   Soybeans|1990|       7000|                       1485.0|            121.0|   16.37|\n",
      "|  5|Albania|      Wheat|1990|      30197|                       1485.0|            121.0|   16.37|\n",
      "|  6|Albania|      Maize|1991|      29068|                       1485.0|            121.0|   15.36|\n",
      "|  7|Albania|   Potatoes|1991|      77818|                       1485.0|            121.0|   15.36|\n",
      "|  8|Albania|Rice, paddy|1991|      28538|                       1485.0|            121.0|   15.36|\n",
      "|  9|Albania|    Sorghum|1991|       6667|                       1485.0|            121.0|   15.36|\n",
      "| 10|Albania|   Soybeans|1991|       6066|                       1485.0|            121.0|   15.36|\n",
      "| 11|Albania|      Wheat|1991|      20698|                       1485.0|            121.0|   15.36|\n",
      "| 12|Albania|      Maize|1992|      24876|                       1485.0|            121.0|   16.06|\n",
      "| 13|Albania|   Potatoes|1992|      82920|                       1485.0|            121.0|   16.06|\n",
      "| 14|Albania|Rice, paddy|1992|      40000|                       1485.0|            121.0|   16.06|\n",
      "| 15|Albania|    Sorghum|1992|       3747|                       1485.0|            121.0|   16.06|\n",
      "| 16|Albania|   Soybeans|1992|       4507|                       1485.0|            121.0|   16.06|\n",
      "| 17|Albania|      Wheat|1992|      24388|                       1485.0|            121.0|   16.06|\n",
      "| 18|Albania|      Maize|1993|      24185|                       1485.0|            121.0|   16.05|\n",
      "| 19|Albania|   Potatoes|1993|      98446|                       1485.0|            121.0|   16.05|\n",
      "+---+-------+-----------+----+-----------+-----------------------------+-----------------+--------+\n",
      "only showing top 20 rows\n",
      "\n"
     ]
    },
    {
     "name": "stderr",
     "output_type": "stream",
     "text": [
      "23/10/11 09:30:30 WARN CSVHeaderChecker: CSV header does not conform to the schema.\n",
      " Header: , Area, Item, Year, hg/ha_yield, average_rain_fall_mm_per_year, pesticides_tonnes, avg_temp\n",
      " Schema: _c0, Area, Item, Year, hg/ha_yield, average_rain_fall_mm_per_year, pesticides_tonnes, avg_temp\n",
      "Expected: _c0 but found: \n",
      "CSV file: file:///home/ubuntu/aws-instance-fork/Datasets/yielddf.csv\n"
     ]
    }
   ],
   "source": [
    "df2_renamed = df2.withColumnRenamed(\"Entity\",\"Region\")\n",
    "df2_renamed.show()\n",
    "\n",
    "df3_renamed = df3.withColumnRenamed(\"Entity\",\"Region\")\n",
    "df3_renamed.show()\n",
    "\n",
    "df4_renamed = df4.withColumnRenamed(\"Area\",\"Region\")\n",
    "df4_renamed.show()"
   ]
  },
  {
   "cell_type": "code",
   "execution_count": 5,
   "id": "b4c9d495",
   "metadata": {},
   "outputs": [
    {
     "name": "stderr",
     "output_type": "stream",
     "text": [
      "23/10/11 09:30:31 WARN CSVHeaderChecker: CSV header does not conform to the schema.\n",
      " Header: , Area, Item, Year, hg/ha_yield, average_rain_fall_mm_per_year, pesticides_tonnes, avg_temp\n",
      " Schema: _c0, Area, Item, Year, hg/ha_yield, average_rain_fall_mm_per_year, pesticides_tonnes, avg_temp\n",
      "Expected: _c0 but found: \n",
      "CSV file: file:///home/ubuntu/aws-instance-fork/Datasets/yielddf.csv\n"
     ]
    },
    {
     "name": "stdout",
     "output_type": "stream",
     "text": [
      "+-----------+----+-----+--------+-------------+--------------+---------------------------+----------------------------+-----------------+------------+----------------------+-----------------------+----+------------------------------------------------+----+-------------------------------------------------------+-----+--------------------+-----------+-----------------------------+-----------------+--------+\n",
      "|     Region|Year|  WRI|Exposure|Vulnerability|Susceptibility|Lack of Coping Capabilities| Lack of Adaptive Capacities|Exposure Category|WRI Category|Vulnerability Category|Susceptibility Category|Code|Prevalence of undernourishment (% of population)|Code|$30.00 per day - share of population below poverty line|  _c0|                Item|hg/ha_yield|average_rain_fall_mm_per_year|pesticides_tonnes|avg_temp|\n",
      "+-----------+----+-----+--------+-------------+--------------+---------------------------+----------------------------+-----------------+------------+----------------------+-----------------------+----+------------------------------------------------+----+-------------------------------------------------------+-----+--------------------+-----------+-----------------------------+-----------------+--------+\n",
      "|  Guatemala|2013|20.88|    36.3|        57.53|         38.57|                       80.8|                       53.21|        Very High|   Very High|                  High|                   High| GTM|                              17.600000381469727| GTM|                                      96.76243000000001| 9680|               Wheat|      20240|                       1996.0|          20489.4|   20.37|\n",
      "|  Guatemala|2013|20.88|    36.3|        57.53|         38.57|                       80.8|                       53.21|        Very High|   Very High|                  High|                   High| GTM|                              17.600000381469727| GTM|                                      96.76243000000001| 9679|      Sweet potatoes|      63636|                       1996.0|          20489.4|   20.37|\n",
      "|  Guatemala|2013|20.88|    36.3|        57.53|         38.57|                       80.8|                       53.21|        Very High|   Very High|                  High|                   High| GTM|                              17.600000381469727| GTM|                                      96.76243000000001| 9678|            Soybeans|      25333|                       1996.0|          20489.4|   20.37|\n",
      "|  Guatemala|2013|20.88|    36.3|        57.53|         38.57|                       80.8|                       53.21|        Very High|   Very High|                  High|                   High| GTM|                              17.600000381469727| GTM|                                      96.76243000000001| 9677|             Sorghum|      17290|                       1996.0|          20489.4|   20.37|\n",
      "|  Guatemala|2013|20.88|    36.3|        57.53|         38.57|                       80.8|                       53.21|        Very High|   Very High|                  High|                   High| GTM|                              17.600000381469727| GTM|                                      96.76243000000001| 9676|         Rice, paddy|      29387|                       1996.0|          20489.4|   20.37|\n",
      "|  Guatemala|2013|20.88|    36.3|        57.53|         38.57|                       80.8|                       53.21|        Very High|   Very High|                  High|                   High| GTM|                              17.600000381469727| GTM|                                      96.76243000000001| 9675|            Potatoes|     247554|                       1996.0|          20489.4|   20.37|\n",
      "|  Guatemala|2013|20.88|    36.3|        57.53|         38.57|                       80.8|                       53.21|        Very High|   Very High|                  High|                   High| GTM|                              17.600000381469727| GTM|                                      96.76243000000001| 9674|Plantains and others|     179551|                       1996.0|          20489.4|   20.37|\n",
      "|  Guatemala|2013|20.88|    36.3|        57.53|         38.57|                       80.8|                       53.21|        Very High|   Very High|                  High|                   High| GTM|                              17.600000381469727| GTM|                                      96.76243000000001| 9673|               Maize|      20827|                       1996.0|          20489.4|   20.37|\n",
      "|  Guatemala|2013|20.88|    36.3|        57.53|         38.57|                       80.8|                       53.21|        Very High|   Very High|                  High|                   High| GTM|                              17.600000381469727| GTM|                                      96.76243000000001| 9672|             Cassava|      12450|                       1996.0|          20489.4|   20.37|\n",
      "|El Salvador|2013|16.85|    32.6|        51.69|          29.5|                      75.69|                       49.88|        Very High|   Very High|                Medium|                 Medium| SLV|                                            10.5| SLV|                                               96.60472| 8584|      Sweet potatoes|      58333|                       1784.0|          6005.08|   26.36|\n",
      "|El Salvador|2013|16.85|    32.6|        51.69|          29.5|                      75.69|                       49.88|        Very High|   Very High|                Medium|                 Medium| SLV|                                            10.5| SLV|                                               96.60472| 8583|            Soybeans|      19231|                       1784.0|          6005.08|   26.36|\n",
      "|El Salvador|2013|16.85|    32.6|        51.69|          29.5|                      75.69|                       49.88|        Very High|   Very High|                Medium|                 Medium| SLV|                                            10.5| SLV|                                               96.60472| 8582|             Sorghum|      16633|                       1784.0|          6005.08|   26.36|\n",
      "|El Salvador|2013|16.85|    32.6|        51.69|          29.5|                      75.69|                       49.88|        Very High|   Very High|                Medium|                 Medium| SLV|                                            10.5| SLV|                                               96.60472| 8581|         Rice, paddy|      61615|                       1784.0|          6005.08|   26.36|\n",
      "|El Salvador|2013|16.85|    32.6|        51.69|          29.5|                      75.69|                       49.88|        Very High|   Very High|                Medium|                 Medium| SLV|                                            10.5| SLV|                                               96.60472| 8580|            Potatoes|     426047|                       1784.0|          6005.08|   26.36|\n",
      "|El Salvador|2013|16.85|    32.6|        51.69|          29.5|                      75.69|                       49.88|        Very High|   Very High|                Medium|                 Medium| SLV|                                            10.5| SLV|                                               96.60472| 8579|Plantains and others|     153680|                       1784.0|          6005.08|   26.36|\n",
      "|El Salvador|2013|16.85|    32.6|        51.69|          29.5|                      75.69|                       49.88|        Very High|   Very High|                Medium|                 Medium| SLV|                                            10.5| SLV|                                               96.60472| 8578|               Maize|      29461|                       1784.0|          6005.08|   26.36|\n",
      "|El Salvador|2013|16.85|    32.6|        51.69|          29.5|                      75.69|                       49.88|        Very High|   Very High|                Medium|                 Medium| SLV|                                            10.5| SLV|                                               96.60472| 8577|             Cassava|     154928|                       1784.0|          6005.08|   26.36|\n",
      "|  Mauritius|2013|15.18|   37.35|        40.64|         18.96|                      60.61|                       42.35|        Very High|   Very High|                   Low|                    Low| MUS|                               5.599999904632568| MUS|                                      94.78050999999999|18974|      Sweet potatoes|     133049|                       2041.0|           671.77|   24.31|\n",
      "|  Mauritius|2013|15.18|   37.35|        40.64|         18.96|                      60.61|                       42.35|        Very High|   Very High|                   Low|                    Low| MUS|                               5.599999904632568| MUS|                                      94.78050999999999|18973|         Rice, paddy|      21250|                       2041.0|           671.77|   24.31|\n",
      "|  Mauritius|2013|15.18|   37.35|        40.64|         18.96|                      60.61|                       42.35|        Very High|   Very High|                   Low|                    Low| MUS|                               5.599999904632568| MUS|                                      94.78050999999999|18972|            Potatoes|     236026|                       2041.0|           671.77|   24.31|\n",
      "+-----------+----+-----+--------+-------------+--------------+---------------------------+----------------------------+-----------------+------------+----------------------+-----------------------+----+------------------------------------------------+----+-------------------------------------------------------+-----+--------------------+-----------+-----------------------------+-----------------+--------+\n",
      "only showing top 20 rows\n",
      "\n"
     ]
    }
   ],
   "source": [
    "#spark merge\n",
    "\n",
    "df2_renamed = df_filtered2.withColumnRenamed(\"Entity\",\"Region\")\n",
    "df3_renamed = df_filtered3.withColumnRenamed(\"Entity\",\"Region\")\n",
    "df4_renamed = df_filtered4.withColumnRenamed(\"Area\",\"Region\")\n",
    "\n",
    "\n",
    "\n",
    "merged_df = df_filtered.join(df2_renamed, on=[\"Region\", \"Year\"], how=\"inner\")\n",
    "\n",
    "merged_df = merged_df.join(df3_renamed, on=[\"Region\", \"Year\"], how=\"inner\")\n",
    "merged_df = merged_df.join(df4_renamed, on=[\"Region\", \"Year\"], how=\"inner\")\n",
    "\n",
    "\n",
    "\n",
    "merged_df.show()"
   ]
  },
  {
   "cell_type": "code",
   "execution_count": null,
   "id": "96903368",
   "metadata": {},
   "outputs": [],
   "source": [
    "#pandas merge \n"
   ]
  },
  {
   "cell_type": "code",
   "execution_count": 6,
   "id": "e069ed4d",
   "metadata": {},
   "outputs": [
    {
     "name": "stdout",
     "output_type": "stream",
     "text": [
      "+------------+----+-----+------------+------------------+-----------------+-----------+---------+-------+--------+\n",
      "|      Region|Year|  WRI|WRI Category|        Prevalence|          poverty|hg/ha_yield|aver_rain|Ptonnes|avg_temp|\n",
      "+------------+----+-----+------------+------------------+-----------------+-----------+---------+-------+--------+\n",
      "|      Angola|2013| 6.48|      Medium|              15.0|          99.6171|       9022|   1010.0|   40.0|   24.55|\n",
      "|      Angola|2013| 6.48|      Medium|              15.0|          99.6171|      73409|   1010.0|   40.0|   24.55|\n",
      "|      Angola|2013| 6.48|      Medium|              15.0|          99.6171|       4405|   1010.0|   40.0|   24.55|\n",
      "|      Angola|2013| 6.48|      Medium|              15.0|          99.6171|       2415|   1010.0|   40.0|   24.55|\n",
      "|      Angola|2013| 6.48|      Medium|              15.0|          99.6171|      12744|   1010.0|   40.0|   24.55|\n",
      "|      Angola|2013| 6.48|      Medium|              15.0|          99.6171|      63303|   1010.0|   40.0|   24.55|\n",
      "|      Angola|2013| 6.48|      Medium|              15.0|          99.6171|       9467|   1010.0|   40.0|   24.55|\n",
      "|      Angola|2013| 6.48|      Medium|              15.0|          99.6171|     140517|   1010.0|   40.0|   24.55|\n",
      "|    Botswana|2013| 5.37|         Low|              28.0|         94.83112|       3168|    416.0|   17.0|   18.69|\n",
      "|    Botswana|2013| 5.37|         Low|              28.0|         94.83112|        849|    416.0|   17.0|   18.69|\n",
      "|Burkina Faso|2013| 9.72|        High|12.199999809265137|         99.91553|      58594|    748.0|  843.0|   29.41|\n",
      "|Burkina Faso|2013| 9.72|        High|12.199999809265137|         99.91553|     146793|    748.0|  843.0|   29.41|\n",
      "|Burkina Faso|2013| 9.72|        High|12.199999809265137|         99.91553|      13512|    748.0|  843.0|   29.41|\n",
      "|Burkina Faso|2013| 9.72|        High|12.199999809265137|         99.91553|      10409|    748.0|  843.0|   29.41|\n",
      "|Burkina Faso|2013| 9.72|        High|12.199999809265137|         99.91553|      21993|    748.0|  843.0|   29.41|\n",
      "|Burkina Faso|2013| 9.72|        High|12.199999809265137|         99.91553|      19481|    748.0|  843.0|   29.41|\n",
      "|Burkina Faso|2013| 9.72|        High|12.199999809265137|         99.91553|      17353|    748.0|  843.0|   29.41|\n",
      "|Burkina Faso|2013| 9.72|        High|12.199999809265137|         99.91553|      13594|    748.0|  843.0|   29.41|\n",
      "|       Chile|2013|12.28|   Very High|3.0999999046325684|82.65867999999998|      58143|   1522.0|9830.72|    5.94|\n",
      "|       Chile|2013|12.28|   Very High|3.0999999046325684|82.65867999999998|      58143|   1522.0|9830.72|   13.07|\n",
      "+------------+----+-----+------------+------------------+-----------------+-----------+---------+-------+--------+\n",
      "only showing top 20 rows\n",
      "\n"
     ]
    }
   ],
   "source": [
    "merged_df = merged_df.withColumnRenamed(\"$30.00 per day - share of population below poverty line\",\"poverty\")\n",
    "merged_df = merged_df.withColumnRenamed(\"Prevalence of undernourishment (% of population)\",\"Prevalence\")\n",
    "merged_df = merged_df.withColumnRenamed(\"average_rain_fall_mm_per_year\",\"aver_rain\")\n",
    "merged_df = merged_df.withColumnRenamed(\"pesticides_tonnes\",\"Ptonnes\")\n",
    "\n",
    "merged_df = merged_df.drop(\"Exposure\",\"Vulnerability\",\"Susceptibility\",\"Lack of Coping Capabilities\",\n",
    "                           \"Exposure Category\",\"Vulnerability Category\",\"Susceptibility Category\",\" Lack of Adaptive Capacities\",\"Code\"\n",
    "                          ,\"_c0\",\"Item\")\n",
    "\n",
    "merged_df = merged_df.fillna(0)\n",
    "\n",
    "\n",
    "merged_df.show()"
   ]
  },
  {
   "cell_type": "code",
   "execution_count": null,
   "id": "5ce4f4a9",
   "metadata": {},
   "outputs": [],
   "source": [
    "\n",
    "df_numeric = merged_df.drop(\"Region\", \"WRI Category\")"
   ]
  },
  {
   "cell_type": "code",
   "execution_count": null,
   "id": "30e8c38f",
   "metadata": {},
   "outputs": [],
   "source": [
    "\n",
    "correlation_matrix = []\n",
    "for i in df_numeric.columns:\n",
    "    row = []\n",
    "    for j in df_numeric.columns:\n",
    "        row.append(df_numeric.stat.corr(i, j))\n",
    "    correlation_matrix.append(row)\n",
    "\n",
    "\n",
    "correlation_df = pd.DataFrame(correlation_matrix, columns=df_numeric.columns, index=df_numeric.columns)\n",
    "\n",
    "\n",
    "plt.figure(figsize=(10, 8))\n",
    "sns.heatmap(correlation_df, annot=True)\n",
    "plt.show()"
   ]
  },
  {
   "cell_type": "code",
   "execution_count": null,
   "id": "b4e0f953",
   "metadata": {},
   "outputs": [],
   "source": [
    "df_numeric_up = merged_df.drop(\"Region\", \"WRI Category\",\"Year\", \"aver_rain\",\"avg_temp\")\n"
   ]
  },
  {
   "cell_type": "code",
   "execution_count": null,
   "id": "b93c94f9",
   "metadata": {},
   "outputs": [],
   "source": [
    "correlation_matrix = []\n",
    "for i in df_numeric_up.columns:\n",
    "    row = []\n",
    "    for j in df_numeric_up.columns:\n",
    "        row.append(df_numeric_up.stat.corr(i, j))\n",
    "    correlation_matrix.append(row)\n",
    "\n",
    "\n",
    "correlation_df = pd.DataFrame(correlation_matrix, columns=df_numeric_up.columns, index=df_numeric_up.columns)\n",
    "\n",
    "\n",
    "plt.figure(figsize=(10, 8))\n",
    "sns.heatmap(correlation_df, annot=True)\n",
    "plt.show()"
   ]
  },
  {
   "cell_type": "code",
   "execution_count": null,
   "id": "eaab1e28",
   "metadata": {},
   "outputs": [],
   "source": [
    "# import log function\n",
    "from pyspark.sql.functions import log\n",
    "\n",
    "\n",
    "\n",
    "# applie log \n",
    "df = df.withColumn(\"Log_WRI\", log(df[\"WRI\"]))\n",
    "\n",
    "# to Pandas DataFrame to visulise\n",
    "dff = df.toPandas()\n",
    "\n",
    "fig, ax = plt.subplots(1, 2, figsize=(12, 5))\n",
    "\n",
    "#  WRI \n",
    "ax[0].hist(dff['WRI'], bins=30, color='blue', alpha=0.7)\n",
    "ax[0].set_title('Original WRI Data')\n",
    "ax[0].set_xlabel('WRI')\n",
    "ax[0].set_ylabel('Frequency')\n",
    "\n",
    "# Log-transformed WRI \n",
    "ax[1].hist(dff['Log_WRI'], bins=30, color='green', alpha=0.7)\n",
    "ax[1].set_title('Log-transformed WRI Data')\n",
    "ax[1].set_xlabel('Log(WRI)')\n",
    "ax[1].set_ylabel('Frequency')\n",
    "\n",
    "plt.tight_layout()\n",
    "plt.show()\n"
   ]
  },
  {
   "cell_type": "code",
   "execution_count": null,
   "id": "db3da615",
   "metadata": {},
   "outputs": [],
   "source": [
    "\n",
    "\n",
    "\n",
    "\n",
    "#  VectorAssembler \n",
    "assembler = VectorAssembler(\n",
    "    inputCols=['WRI', 'poverty', 'Ptonnes'],\n",
    "    outputCol=\"features\"\n",
    ")\n",
    "merged_df = assembler.transform(merged_df)\n",
    "\n",
    "# train and test\n",
    "train_data, test_data = merged_df.randomSplit([0.8, 0.2], seed=42)\n",
    "\n",
    "# LinearRegression\n",
    "lr = LinearRegression(featuresCol=\"features\", labelCol=\"Prevalence\")\n",
    "model = lr.fit(train_data)\n",
    "\n",
    "# predictions\n",
    "predictions = model.transform(test_data)\n",
    "\n",
    "# mse\n",
    "evaluator = RegressionEvaluator(\n",
    "    labelCol=\"Prevalence\", \n",
    "    predictionCol=\"prediction\", \n",
    "    metricName=\"mse\"\n",
    ")\n",
    "mse = evaluator.evaluate(predictions)\n",
    "print(f\"Mean Squared Error: {mse}\")\n",
    "\n",
    "# print Coefficients and Intercept\n",
    "print(f\"Coefficients: {model.coefficients}\")\n",
    "print(f\"Intercept: {model.intercept}\")\n"
   ]
  },
  {
   "cell_type": "code",
   "execution_count": null,
   "id": "47e2eb33",
   "metadata": {},
   "outputs": [],
   "source": [
    "#  VectorAssembler \n",
    "assembler = VectorAssembler(\n",
    "    inputCols=['WRI', 'poverty', 'Ptonnes'],\n",
    "    outputCol=\"features\"\n",
    ")\n",
    "merged_df = assembler.transform(merged_df)\n",
    "\n",
    "# train and test\n",
    "train_data, test_data = merged_df.randomSplit([0.7, 0.3], seed=42)\n",
    "\n",
    "# LinearRegression\n",
    "lr = LinearRegression(featuresCol=\"features\", labelCol=\"Prevalence\")\n",
    "model = lr.fit(train_data)\n",
    "\n",
    "# predictions\n",
    "predictions = model.transform(test_data)\n",
    "\n",
    "# mse\n",
    "evaluator = RegressionEvaluator(\n",
    "    labelCol=\"Prevalence\", \n",
    "    predictionCol=\"prediction\", \n",
    "    metricName=\"mse\"\n",
    ")\n",
    "\n",
    "train_data.describe().show()\n",
    "test_data.describe().show()\n",
    "mse = evaluator.evaluate(predictions)\n",
    "print(f\"Mean Squared Error: {mse}\")\n",
    "\n",
    "# print Coefficients and Intercept\n",
    "print(f\"Coefficients: {model.coefficients}\")\n",
    "print(f\"Intercept: {model.intercept}\")"
   ]
  },
  {
   "cell_type": "code",
   "execution_count": null,
   "id": "2994fc3b",
   "metadata": {},
   "outputs": [],
   "source": [
    "from pyspark.sql.functions import mean, stddev, col\n",
    "\n",
    "\n",
    "merged_df.select(mean(col(\"Prevalence\")), stddev(col(\"Prevalence\"))).show()\n"
   ]
  },
  {
   "cell_type": "code",
   "execution_count": null,
   "id": "54e51b9d",
   "metadata": {},
   "outputs": [],
   "source": [
    "import matplotlib.pyplot as plt\n",
    "#  VectorAssembler \n",
    "assembler = VectorAssembler(\n",
    "    inputCols=['WRI', 'poverty', 'Ptonnes'],\n",
    "    outputCol=\"features\"\n",
    ")\n",
    "merged_df = assembler.transform(merged_df)\n",
    "\n",
    "# train and test\n",
    "train_data, test_data = merged_df.randomSplit([0.7, 0.3], seed=42)\n",
    "\n",
    "# LinearRegression\n",
    "lr = LinearRegression(featuresCol=\"features\", labelCol=\"Prevalence\")\n",
    "model = lr.fit(train_data)\n",
    "\n",
    "# predictions\n",
    "predictions = model.transform(test_data)\n",
    "\n",
    "# mse\n",
    "evaluator = RegressionEvaluator(\n",
    "    labelCol=\"Prevalence\", \n",
    "    predictionCol=\"prediction\", \n",
    "    metricName=\"mse\"\n",
    ")\n",
    "\n",
    "train_data.describe().show()\n",
    "test_data.describe().show()\n",
    "mse = evaluator.evaluate(predictions)\n",
    "print(f\"Mean Squared Error: {mse}\")\n",
    "\n",
    "# print Coefficients and Intercept\n",
    "print(f\"Coefficients: {model.coefficients}\")\n",
    "print(f\"Intercept: {model.intercept}\")\n",
    "\n",
    "coefficients = model.coefficients\n",
    "features = ['WRI', 'poverty', 'Ptonnes']\n",
    "\n",
    "# create a bar graph\n",
    "plt.bar(features, coefficients)\n",
    "plt.xlabel('Features')\n",
    "plt.ylabel('Coefficient Value')\n",
    "plt.title('Linear Regression Coefficients')\n",
    "plt.xticks(rotation=45)\n",
    "plt.tight_layout()\n",
    "\n",
    "\n",
    "plt.show()\n",
    "\n"
   ]
  },
  {
   "cell_type": "code",
   "execution_count": null,
   "id": "38be3b36",
   "metadata": {},
   "outputs": [],
   "source": [
    "import matplotlib.pyplot as plt\n",
    "\n",
    "\n",
    "histogram_data = merged_df.select('poverty').rdd.flatMap(lambda x: x).histogram(100)\n",
    "\n",
    "\n",
    "bins = histogram_data[0]\n",
    "freq = histogram_data[1]\n",
    "\n",
    "\n",
    "plt.bar(bins[:-1], freq, width=(bins[1] - bins[0]))\n",
    "plt.title('Distribution of Economic Indicator')\n",
    "plt.xlabel('poverty')\n",
    "plt.ylabel('Frequency')\n",
    "plt.show()\n"
   ]
  },
  {
   "cell_type": "code",
   "execution_count": null,
   "id": "6ba21884",
   "metadata": {},
   "outputs": [],
   "source": [
    "import matplotlib.pyplot as plt\n",
    "\n",
    "\n",
    "coefficients = model.coefficients\n",
    "\n",
    "\n",
    "features = ['poverty',\n",
    "            'Prevalence', 'WRI']\n",
    "\n",
    "plt.bar(features, coefficients)\n",
    "plt.title('Regression Coefficients')\n",
    "plt.ylabel('Coefficient Value')\n",
    "plt.xticks(rotation=45)  # rotate x for better understanding\n",
    "plt.tight_layout()\n",
    "\n",
    "\n",
    "plt.show()\n"
   ]
  },
  {
   "cell_type": "code",
   "execution_count": null,
   "id": "6c846d69",
   "metadata": {},
   "outputs": [],
   "source": [
    "import matplotlib.pyplot as plt\n",
    "\n",
    "# \n",
    "pdf = predictions.select(\"Prevalence\", \"prediction\").toPandas()\n",
    "\n",
    "# \n",
    "plt.scatter(pdf[\"Prevalence\"], pdf[\"prediction\"])\n",
    "plt.plot([pdf[\"Prevalence\"].min(), pdf[\"Prevalence\"].max()], [pdf[\"Prevalence\"].min(), pdf[\"Prevalence\"].max()], 'k--', lw=2)\n",
    "plt.xlabel('Actual')\n",
    "plt.ylabel('Predicted')\n",
    "plt.title('Actual vs Predicted Hunger Index')\n",
    "plt.show()\n"
   ]
  },
  {
   "cell_type": "code",
   "execution_count": null,
   "id": "27d37485",
   "metadata": {},
   "outputs": [],
   "source": [
    "from pyspark.ml.feature import VectorAssembler\n",
    "from pyspark.ml.regression import LinearRegression\n",
    "from pyspark.ml.evaluation import RegressionEvaluator\n",
    "from pyspark.sql.functions import log1p\n",
    "\n",
    "# train and test\n",
    "train_data, test_data = merged_df.randomSplit([0.7, 0.3], seed=42)\n",
    "\n",
    "train_data = train_data.withColumn(\"WRI\", log1p(train_data[\"WRI\"]))\n",
    "\n",
    "\n",
    "assembler = VectorAssembler(inputCols=[\"WRI\"], outputCol=\"features\")\n",
    "X_train_transformed = assembler.transform(train_data)\n",
    "\n",
    "\n",
    "lr = LinearRegression(featuresCol=\"features\", labelCol=\"Prevalence\", regParam=1.0, elasticNetParam=0)  # regParam corresponds to alpha, elasticNetParam=0 means Ridge regression\n",
    "model = lr.fit(X_train_transformed)\n",
    "\n",
    "\n",
    "X_test_transformed = assembler.transform(test_data)\n",
    "predictions = model.transform(X_test_transformed)\n",
    "\n",
    "\n",
    "evaluator = RegressionEvaluator(labelCol=\"Prevalence\", predictionCol=\"prediction\", metricName=\"mse\")\n",
    "mse = evaluator.evaluate(predictions)\n",
    "print(f\"iteration 2 MSE: {mse}\")\n"
   ]
  },
  {
   "cell_type": "code",
   "execution_count": 10,
   "id": "d08370fd",
   "metadata": {},
   "outputs": [
    {
     "name": "stdout",
     "output_type": "stream",
     "text": [
      "iteration 3 MSE: 1.9109549239837649\n"
     ]
    }
   ],
   "source": [
    "from pyspark.ml.feature import VectorAssembler\n",
    "from pyspark.ml.regression import RandomForestRegressor\n",
    "from pyspark.ml.evaluation import RegressionEvaluator\n",
    "\n",
    "# train and test\n",
    "train_data, test_data = merged_df.randomSplit([0.7, 0.3], seed=42)\n",
    "\n",
    "\n",
    "label_column = \"Prevalence\"\n",
    "\n",
    "\n",
    "assembler = VectorAssembler(inputCols=[\"WRI\", \"poverty\", \"Ptonnes\"], outputCol=\"features\")\n",
    "X_train_transformed = assembler.transform(train_data)\n",
    "\n",
    "\n",
    "rf = RandomForestRegressor(numTrees=100, seed=42, labelCol=label_column, featuresCol=\"features\")\n",
    "model = rf.fit(X_train_transformed)\n",
    "\n",
    "\n",
    "X_test_transformed = assembler.transform(test_data)\n",
    "predictions = model.transform(X_test_transformed)\n",
    "\n",
    "\n",
    "evaluator = RegressionEvaluator(labelCol=label_column, predictionCol=\"prediction\", metricName=\"mse\")\n",
    "mse = evaluator.evaluate(predictions)\n",
    "print(f\"iteration 3 MSE: {mse}\")\n"
   ]
  },
  {
   "cell_type": "code",
   "execution_count": null,
   "id": "d755304f",
   "metadata": {},
   "outputs": [],
   "source": []
  }
 ],
 "metadata": {
  "kernelspec": {
   "display_name": "Python 3 (ipykernel)",
   "language": "python",
   "name": "python3"
  },
  "language_info": {
   "codemirror_mode": {
    "name": "ipython",
    "version": 3
   },
   "file_extension": ".py",
   "mimetype": "text/x-python",
   "name": "python",
   "nbconvert_exporter": "python",
   "pygments_lexer": "ipython3",
   "version": "3.10.12"
  }
 },
 "nbformat": 4,
 "nbformat_minor": 5
}
